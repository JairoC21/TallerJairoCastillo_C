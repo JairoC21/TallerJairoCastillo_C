{
 "cells": [
  {
   "cell_type": "code",
   "execution_count": 5,
   "metadata": {},
   "outputs": [
    {
     "ename": "NameError",
     "evalue": "name 'F_to_K' is not defined",
     "output_type": "error",
     "traceback": [
      "\u001b[0;31m---------------------------------------------------------------------------\u001b[0m",
      "\u001b[0;31mNameError\u001b[0m                                 Traceback (most recent call last)",
      "Cell \u001b[0;32mIn[5], line 7\u001b[0m\n\u001b[1;32m      4\u001b[0m \u001b[39m# Pedir al usuario la temperatura en Fahrenheit\u001b[39;00m\n\u001b[1;32m      6\u001b[0m temperature_F \u001b[39m=\u001b[39m \u001b[39mfloat\u001b[39m(\u001b[39minput\u001b[39m(\u001b[39m\"\u001b[39m\u001b[39mIngrese la temperatura en grados Fahrenheit: \u001b[39m\u001b[39m\"\u001b[39m))\n\u001b[0;32m----> 7\u001b[0m temperature_K \u001b[39m=\u001b[39m F_to_K(temperature_F)\n\u001b[1;32m      8\u001b[0m \u001b[39mprint\u001b[39m(\u001b[39mf\u001b[39m\u001b[39m\"\u001b[39m\u001b[39m{\u001b[39;00mtemperature_F\u001b[39m}\u001b[39;00m\u001b[39m grados Fahrenheit equivalen a \u001b[39m\u001b[39m{\u001b[39;00mtemperature_K\u001b[39m}\u001b[39;00m\u001b[39m grados Kelvin.\u001b[39m\u001b[39m\"\u001b[39m)\n\u001b[1;32m     10\u001b[0m \u001b[39m# Pedir al usuario la temperatura en Celsius\u001b[39;00m\n",
      "\u001b[0;31mNameError\u001b[0m: name 'F_to_K' is not defined"
     ]
    }
   ],
   "source": [
    "\n",
    "import my_temp_conversions \n",
    "\n",
    "\n",
    "# Pedir al usuario la temperatura en Fahrenheit\n",
    "\n",
    "temperature_F = float(input(\"Ingrese la temperatura en grados Fahrenheit: \"))\n",
    "temperature_K = F_to_K(temperature_F)\n",
    "print(f\"{temperature_F} grados Fahrenheit equivalen a {temperature_K} grados Kelvin.\")\n",
    "\n",
    "# Pedir al usuario la temperatura en Celsius\n",
    "\n",
    "temperature_C = float(input(\"Ingrese la temperatura en grados Celsius: \"))\n",
    "temperature_R = C_to_R(temperature_C)\n",
    "print(f\"{temperature_C} grados Celsius equivalen a {temperature_R} grados Rankine.\")\n",
    "\n",
    "# Pedir al usuario la temperatura en Celsius\n",
    "\n",
    "temperature_C = float(input(\"Ingrese la temperatura en grados Celsius: \"))\n",
    "temperature_F = C_to_F(temperature_C)\n",
    "print(f\"{temperature_C} grados Celsius equivalen a {temperature_F} grados Fahrenheit.\")\n"
   ]
  },
  {
   "cell_type": "code",
   "execution_count": null,
   "metadata": {},
   "outputs": [],
   "source": []
  }
 ],
 "metadata": {
  "kernelspec": {
   "display_name": "Python 3 (ipykernel)",
   "language": "python",
   "name": "python3"
  },
  "language_info": {
   "codemirror_mode": {
    "name": "ipython",
    "version": 3
   },
   "file_extension": ".py",
   "mimetype": "text/x-python",
   "name": "python",
   "nbconvert_exporter": "python",
   "pygments_lexer": "ipython3",
   "version": "3.10.8"
  },
  "orig_nbformat": 4
 },
 "nbformat": 4,
 "nbformat_minor": 2
}
