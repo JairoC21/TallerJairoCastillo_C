{
 "cells": [
  {
   "cell_type": "code",
   "execution_count": 1,
   "metadata": {},
   "outputs": [
    {
     "name": "stdout",
     "output_type": "stream",
     "text": [
      "5.0 grados Fahrenheit equivalen a 258.15 grados Kelvin.\n",
      "5.0 grados Celsius equivalen a 500.67 grados Rankine.\n",
      "5.0 grados Celsius equivalen a 41.0 grados Fahrenheit.\n"
     ]
    }
   ],
   "source": [
    "def F_to_K(temperature_F):\n",
    "    temperature_K = (5/9) * (temperature_F - 32) + 273.15\n",
    "    return temperature_K\n",
    "\n",
    "def C_to_R(temperature_C):\n",
    "    temperature_R = temperature_C * 1.8 + 32 + 459.67\n",
    "    return temperature_R\n",
    "\n",
    "def C_to_F(temperature_C):\n",
    "    temperature_F = temperature_C * 1.8 + 32\n",
    "    return temperature_F\n",
    "\n",
    "# Pedir al usuario la temperatura en Fahrenheit\n",
    "temperature_F = float(input(\"Ingrese la temperatura en grados Fahrenheit: \"))\n",
    "temperature_K = F_to_K(temperature_F)\n",
    "print(f\"{temperature_F} grados Fahrenheit equivalen a {temperature_K} grados Kelvin.\")\n",
    "\n",
    "# Pedir al usuario la temperatura en Celsius\n",
    "temperature_C = float(input(\"Ingrese la temperatura en grados Celsius: \"))\n",
    "temperature_R = C_to_R(temperature_C)\n",
    "print(f\"{temperature_C} grados Celsius equivalen a {temperature_R} grados Rankine.\")\n",
    "\n",
    "# Pedir al usuario la temperatura en Celsius\n",
    "temperature_C = float(input(\"Ingrese la temperatura en grados Celsius: \"))\n",
    "temperature_F = C_to_F(temperature_C)\n",
    "print(f\"{temperature_C} grados Celsius equivalen a {temperature_F} grados Fahrenheit.\")"
   ]
  },
  {
   "cell_type": "code",
   "execution_count": null,
   "metadata": {},
   "outputs": [],
   "source": []
  }
 ],
 "metadata": {
  "kernelspec": {
   "display_name": "Python 3 (ipykernel)",
   "language": "python",
   "name": "python3"
  },
  "language_info": {
   "codemirror_mode": {
    "name": "ipython",
    "version": 3
   },
   "file_extension": ".py",
   "mimetype": "text/x-python",
   "name": "python",
   "nbconvert_exporter": "python",
   "pygments_lexer": "ipython3",
   "version": "3.10.8"
  },
  "orig_nbformat": 4
 },
 "nbformat": 4,
 "nbformat_minor": 2
}
